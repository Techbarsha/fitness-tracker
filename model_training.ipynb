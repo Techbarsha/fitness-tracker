{
  "nbformat": 4,
  "nbformat_minor": 0,
  "metadata": {
    "colab": {
      "provenance": [],
      "authorship_tag": "ABX9TyOA938GlwQWwy2QzWue9cbb",
      "include_colab_link": true
    },
    "kernelspec": {
      "name": "python3",
      "display_name": "Python 3"
    },
    "language_info": {
      "name": "python"
    }
  },
  "cells": [
    {
      "cell_type": "markdown",
      "metadata": {
        "id": "view-in-github",
        "colab_type": "text"
      },
      "source": [
        "<a href=\"https://colab.research.google.com/github/Techbarsha/fitness-tracker/blob/main/model_training.ipynb\" target=\"_parent\"><img src=\"https://colab.research.google.com/assets/colab-badge.svg\" alt=\"Open In Colab\"/></a>"
      ]
    },
    {
      "cell_type": "code",
      "execution_count": 1,
      "metadata": {
        "colab": {
          "base_uri": "https://localhost:8080/"
        },
        "id": "1GxA-BDMR2it",
        "outputId": "3cb2ca4d-c94f-4598-aac1-6b9cb35d3055"
      },
      "outputs": [
        {
          "output_type": "stream",
          "name": "stdout",
          "text": [
            "Models saved as:\n",
            "- rf_regressor.pkl\n",
            "- svm_classifier.pkl\n"
          ]
        }
      ],
      "source": [
        "# model_training.py\n",
        "import pandas as pd\n",
        "import numpy as np\n",
        "from sklearn.ensemble import RandomForestRegressor\n",
        "from sklearn.svm import SVC\n",
        "from sklearn.model_selection import train_test_split\n",
        "import joblib\n",
        "\n",
        "# Generate synthetic data\n",
        "def generate_fitness_data(num_samples=1000):\n",
        "    np.random.seed(42)\n",
        "    data = {\n",
        "        'Age': np.random.randint(18, 65, num_samples),\n",
        "        'Gender': np.random.choice(['Male', 'Female'], num_samples),\n",
        "        'Weight': np.random.uniform(50, 120, num_samples),\n",
        "        'Height': np.random.uniform(150, 200, num_samples),\n",
        "        'Exercise_Duration': np.random.uniform(15, 120, num_samples),\n",
        "        'Heart_Rate': np.random.randint(80, 190, num_samples),\n",
        "        'Steps': np.random.randint(1000, 20000, num_samples),\n",
        "        'Activity_Type': np.random.choice(['Running', 'Cycling', 'Swimming', 'Weight Training'], num_samples)\n",
        "    }\n",
        "\n",
        "    data['Calories_Burned'] = (data['Exercise_Duration'] * (data['Heart_Rate']/100) *\n",
        "                              (data['Weight']/50) * np.random.normal(1, 0.1, num_samples))\n",
        "\n",
        "    data['Workout_Intensity'] = pd.cut(data['Calories_Burned'], bins=3,\n",
        "                                      labels=['Low', 'Medium', 'High'])\n",
        "\n",
        "    return pd.DataFrame(data)\n",
        "\n",
        "# Generate and preprocess data\n",
        "df = generate_fitness_data()\n",
        "df['BMI'] = df['Weight'] / ((df['Height']/100) ** 2)\n",
        "df = pd.get_dummies(df, columns=['Gender', 'Activity_Type'])\n",
        "\n",
        "# Prepare features and targets\n",
        "X = df.drop(['Calories_Burned', 'Workout_Intensity'], axis=1)\n",
        "y_reg = df['Calories_Burned']\n",
        "y_clf = df['Workout_Intensity']\n",
        "\n",
        "# Train models\n",
        "# Regression model (Calories)\n",
        "rf_regressor = RandomForestRegressor(n_estimators=100, random_state=42)\n",
        "rf_regressor.fit(X, y_reg)\n",
        "\n",
        "# Classification model (Workout Intensity)\n",
        "svm_classifier = SVC(kernel='rbf', probability=True)\n",
        "svm_classifier.fit(X, y_clf)\n",
        "\n",
        "# Save models\n",
        "joblib.dump(rf_regressor, 'rf_regressor.pkl')\n",
        "joblib.dump(svm_classifier, 'svm_classifier.pkl')\n",
        "\n",
        "print(\"Models saved as:\")\n",
        "print(\"- rf_regressor.pkl\")\n",
        "print(\"- svm_classifier.pkl\")"
      ]
    }
  ]
}